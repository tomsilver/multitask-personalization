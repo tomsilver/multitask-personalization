{
  "cells": [
    {
      "cell_type": "markdown",
      "metadata": {
        "id": "QeasmQxC3S6W"
      },
      "source": [
        "# Exploration Analysis\n",
        "\n",
        "Experimenting with entropy-based exploration and \"free\" exploration in 1D."
      ]
    },
    {
      "cell_type": "code",
      "execution_count": 106,
      "metadata": {
        "colab": {
          "base_uri": "https://localhost:8080/",
          "height": 487
        },
        "id": "-rxRnbtJ7IaX",
        "outputId": "a481f3b3-15c3-4ccd-834f-34bfbbca48e6"
      },
      "outputs": [],
      "source": [
        "import abc\n",
        "import matplotlib.pyplot as plt\n",
        "import numpy as np\n",
        "from multitask_personalization.utils import Bounded1DClassifier, bernoulli_entropy\n",
        "\n",
        "np.random.seed(1)\n",
        "\n",
        "# Unknown parameters.\n",
        "ground_truth_lb = 0.1\n",
        "ground_truth_ub = 0.3\n",
        "\n",
        "# Known parameters.\n",
        "global_lb = 0.0\n",
        "global_ub = 1.25"
      ]
    },
    {
      "cell_type": "markdown",
      "metadata": {
        "id": "nDVGrlBY6A_S"
      },
      "source": [
        "## Base Classes\n",
        "An interface for predictive models and explorers (active learning)."
      ]
    },
    {
      "cell_type": "code",
      "execution_count": 107,
      "metadata": {
        "colab": {
          "base_uri": "https://localhost:8080/",
          "height": 487
        },
        "id": "imadj_Yh6839",
        "outputId": "84027dda-bcca-43cc-9797-b7db96163387"
      },
      "outputs": [],
      "source": [
        "class PredictiveModel(abc.ABC):\n",
        "    \"\"\"Learns and predicts.\"\"\"\n",
        "\n",
        "    @abc.abstractmethod\n",
        "    def predict(self, inputs: list[float]) -> list[float]:\n",
        "        \"\"\"Predicts probability of true.\"\"\"\n",
        "\n",
        "    def classify(self, inputs: list[float]) -> list[bool]:\n",
        "        \"\"\"Predicts true or false.\"\"\"\n",
        "        predictions = self.predict(inputs)\n",
        "        return [y >= 0.5 for y in predictions]\n",
        "\n",
        "    @abc.abstractmethod\n",
        "    def update(self, input: float, label: bool) -> None:\n",
        "        \"\"\"Update the model.\"\"\"\n",
        "\n",
        "\n",
        "class Explorer(abc.ABC):\n",
        "    \"\"\"The active learner.\"\"\"\n",
        "\n",
        "    def __init__(self, model: PredictiveModel, global_lb: float, global_ub: float,\n",
        "                 seed: int = 1) -> None:\n",
        "        self.model = model\n",
        "        self.global_lb = global_lb\n",
        "        self.global_ub = global_ub\n",
        "        self.seed = seed\n",
        "        self._rng = np.random.default_rng(seed)\n",
        "\n",
        "    @abc.abstractmethod\n",
        "    def get_next_request(self) -> float:\n",
        "        \"\"\"Get an input for labelling.\"\"\"\n"
      ]
    },
    {
      "cell_type": "markdown",
      "metadata": {
        "id": "6acn6b9YAtTa"
      },
      "source": [
        "## Predictive Models"
      ]
    },
    {
      "cell_type": "code",
      "execution_count": 108,
      "metadata": {
        "colab": {
          "base_uri": "https://localhost:8080/",
          "height": 487
        },
        "id": "0oza6dw8A8Jk",
        "outputId": "b40fed40-9e2d-4362-b9ae-e9c9454e4525"
      },
      "outputs": [],
      "source": [
        "class Bounded1DClassifierPredictiveModel(PredictiveModel):\n",
        "\n",
        "    def __init__(self, a_lo: float, b_hi: float) -> None:\n",
        "        self._classifier = Bounded1DClassifier(a_lo, b_hi)\n",
        "\n",
        "    def predict(self, inputs: list[float]) -> list[float]:\n",
        "        return self._classifier.predict_proba(inputs)\n",
        "    \n",
        "    def update(self, input: float, label: bool) -> None:\n",
        "        return self._classifier.fit_incremental([input], [label])"
      ]
    },
    {
      "cell_type": "markdown",
      "metadata": {},
      "source": [
        "## Explorers"
      ]
    },
    {
      "cell_type": "code",
      "execution_count": 109,
      "metadata": {},
      "outputs": [],
      "source": [
        "class FreeExplorer(Explorer):\n",
        "\n",
        "    def get_next_request(self) -> float:\n",
        "        return self._rng.uniform(self.global_lb, self.global_ub)\n",
        "    \n",
        "\n",
        "class EntropyExplorer(Explorer):\n",
        "\n",
        "    def __init__(self, *args, num_samples: int = 10, **kwargs):\n",
        "        super().__init__(*args, **kwargs)\n",
        "        self._num_samples = num_samples\n",
        "\n",
        "    def get_next_request(self) -> float:\n",
        "        samples = self._rng.uniform(self.global_lb, self.global_ub, size=self._num_samples)\n",
        "        probas = self.model.predict(samples)\n",
        "        scores = [bernoulli_entropy(np.log(p)) for p in probas]\n",
        "        idx = np.argmax(scores)\n",
        "        return samples[idx]"
      ]
    },
    {
      "cell_type": "markdown",
      "metadata": {},
      "source": [
        "## Analysis"
      ]
    },
    {
      "cell_type": "code",
      "execution_count": 110,
      "metadata": {},
      "outputs": [
        {
          "name": "stderr",
          "output_type": "stream",
          "text": [
            "/var/folders/px/5p5ncg216n951x06wktc93xr0000gn/T/ipykernel_26169/290512507.py:16: RuntimeWarning: divide by zero encountered in log\n",
            "  scores = [bernoulli_entropy(np.log(p)) for p in probas]\n"
          ]
        },
        {
          "data": {
            "image/png": "[encoded data removed]",
            "text/plain": [
              "<Figure size 640x480 with 1 Axes>"
            ]
          },
          "metadata": {},
          "output_type": "display_data"
        }
      ],
      "source": [
        "def generate_eval_data(ground_truth_model: PredictiveModel,\n",
        "                       num_eval_points: int = 100,\n",
        "                       seed: int = 1,\n",
        "                       balance_data: bool = True) -> tuple[list[float], list[bool]]:\n",
        "    rng = np.random.default_rng(seed)\n",
        "    inputs = []\n",
        "    labels = []\n",
        "    while len(inputs) < num_eval_points:\n",
        "        x = rng.uniform(global_lb, global_ub)\n",
        "        label = ground_truth_model.classify([x])[0]\n",
        "        if balance_data:\n",
        "            if label and (sum(labels) >= num_eval_points // 2):\n",
        "                continue\n",
        "            if not label and (len(labels) - sum(labels) >= num_eval_points // 2):\n",
        "                continue\n",
        "            inputs.append(x)\n",
        "            labels.append(label)\n",
        "    return inputs, labels\n",
        "\n",
        "\n",
        "def loss(model: PredictiveModel, eval_inputs: list[float], eval_outputs: list[bool]) -> float:\n",
        "    assert len(eval_inputs) == len(eval_outputs)\n",
        "    preds = model.predict(eval_inputs)\n",
        "    assert len(preds) == len(eval_inputs)\n",
        "    return np.sum(np.not_equal(preds, eval_outputs)) / len(eval_inputs)\n",
        "\n",
        "\n",
        "def run_single_episode(explorer: Explorer, ground_truth_model: PredictiveModel,\n",
        "                       num_steps: int = 100, num_eval_points: int = 100,\n",
        "                       seed: int = 1) -> list[float]:\n",
        "    eval_inputs, eval_outputs = generate_eval_data(ground_truth_model,\n",
        "                                                   num_eval_points=num_eval_points,\n",
        "                                                   seed=seed)\n",
        "    errors = [loss(explorer.model, eval_inputs, eval_outputs)]\n",
        "    for _ in range(num_steps):\n",
        "        x = explorer.get_next_request()\n",
        "        y = ground_truth_model.classify([x])[0]\n",
        "        explorer.model.update(x, y)\n",
        "        error = loss(explorer.model, eval_inputs, eval_outputs)\n",
        "        errors.append(error)\n",
        "    return errors\n",
        "\n",
        "\n",
        "def run_all_experiments(explorer_names: list[str], num_trials: int = 10,\n",
        "                        num_steps: int = 100) -> dict[str, list[list[float]]]:\n",
        "    results : dict[str, list[list[float]]] = {name: [] for name in explorer_names}\n",
        "    \n",
        "    ground_truth_model = Bounded1DClassifierPredictiveModel(ground_truth_lb, ground_truth_ub)\n",
        "\n",
        "    for trial in range(num_trials):\n",
        "        seed = trial\n",
        "        for explorer_name in explorer_names:\n",
        "            model = Bounded1DClassifierPredictiveModel(global_lb, global_ub)\n",
        "            if explorer_name == \"free\":\n",
        "                explorer = FreeExplorer(model, global_lb, global_ub, seed=seed)\n",
        "            elif explorer_name == \"entropy\":\n",
        "                explorer = EntropyExplorer(model, global_lb, global_ub, seed=seed)\n",
        "            else:\n",
        "                raise NotImplementedError\n",
        "            \n",
        "            errors = run_single_episode(explorer, ground_truth_model, \n",
        "                                        num_steps=num_steps, seed=seed)\n",
        "            results[explorer_name].append(errors)\n",
        "    \n",
        "    return results\n",
        "\n",
        "\n",
        "def _main():\n",
        "    explorer_names = [\"entropy\", \"free\"]\n",
        "    num_steps = 100\n",
        "    num_trials = 50\n",
        "    results = run_all_experiments(explorer_names, num_trials=num_trials,\n",
        "                                  num_steps=num_steps)\n",
        "\n",
        "    plt.figure()\n",
        "    for explorer_name, explorer_results in results.items():\n",
        "        mean_results = np.mean(explorer_results, axis=0)\n",
        "        std_results = np.std(explorer_results, axis=0, ddof=1) / np.sqrt(len(mean_results))\n",
        "        assert len(mean_results) == num_steps + 1\n",
        "        X = np.arange(num_steps+1)\n",
        "        plt.plot(X, mean_results, label=explorer_name)\n",
        "        plt.fill_between(X, mean_results - std_results, mean_results + std_results,\n",
        "                         alpha=0.25)\n",
        "    plt.xlabel(\"Time\")\n",
        "    plt.ylabel(\"Error\")\n",
        "    plt.legend()\n",
        "    plt.tight_layout()\n",
        "    plt.show()\n",
        "    \n",
        "_main()"
      ]
    }
  ],
  "metadata": {
    "colab": {
      "provenance": []
    },
    "kernelspec": {
      "display_name": "venv",
      "language": "python",
      "name": "python3"
    },
    "language_info": {
      "codemirror_mode": {
        "name": "ipython",
        "version": 3
      },
      "file_extension": ".py",
      "mimetype": "text/x-python",
      "name": "python",
      "nbconvert_exporter": "python",
      "pygments_lexer": "ipython3",
      "version": "3.10.6"
    }
  },
  "nbformat": 4,
  "nbformat_minor": 0
}
