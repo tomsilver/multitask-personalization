{
 "cells": [
  {
   "cell_type": "markdown",
   "metadata": {},
   "source": [
    "# Book Preference Learning Analysis"
   ]
  },
  {
   "cell_type": "code",
   "execution_count": 1,
   "metadata": {},
   "outputs": [
    {
     "name": "stderr",
     "output_type": "stream",
     "text": [
      "pybullet build time: Apr 27 2024 09:33:34\n",
      "/Users/tom/multitask-personalization/venv/lib/python3.10/site-packages/tqdm/auto.py:21: TqdmWarning: IProgress not found. Please update jupyter and ipywidgets. See https://ipywidgets.readthedocs.io/en/stable/user_install.html\n",
      "  from .autonotebook import tqdm as notebook_tqdm\n"
     ]
    }
   ],
   "source": [
    "import numpy as np\n",
    "import matplotlib.pyplot as plt\n",
    "from pathlib import Path\n",
    "from multitask_personalization.envs.pybullet.pybullet_env import PyBulletEnv\n",
    "from multitask_personalization.envs.pybullet.pybullet_scene_spec import PyBulletSceneSpec, HiddenSceneSpec\n",
    "from multitask_personalization.rom.models import SphericalROMModel\n",
    "from multitask_personalization.envs.pybullet.pybullet_human import HumanSpec\n",
    "from multitask_personalization.envs.pybullet.pybullet_utils import user_would_enjoy_book\n",
    "from multitask_personalization.envs.pybullet.pybullet_missions import _explain_user_book_preference\n",
    "from multitask_personalization.envs.pybullet.pybullet_csp import _get_book_preferences_from_history\n",
    "from tomsutils.llm import OpenAILLM"
   ]
  },
  {
   "cell_type": "code",
   "execution_count": 2,
   "metadata": {},
   "outputs": [
    {
     "name": "stdout",
     "output_type": "stream",
     "text": [
      "Book descriptions:\n",
      "Book 0: Title: Cosmos. Author: Carl Sagan.\n",
      "Book 1: Title: The Diary of Anne Frank. Author: Anne Frank.\n",
      "Book 2: Title: Moby Dick. Author: Herman Melville.\n",
      "Book 3: Title: The Hitchhiker's Guide to the Galaxy. Author: Douglas Adams.\n",
      "Book 4: Title: The Lord of the Rings. Author: J. R. R. Tolkien.\n",
      "Book 5: Title: And Then There Were None. Author: Agatha Christie.\n",
      "Book 6: Title: To Kill a Mockingbird. Author: Harper Lee.\n",
      "Book 7: Title: The Great Gatsby. Author: F. Scott Fitzgerald.\n",
      "Book 8: Title: 1984. Author: George Orwell.\n"
     ]
    }
   ],
   "source": [
    "human_spec = HumanSpec()\n",
    "rom_model = SphericalROMModel(human_spec)\n",
    "hidden_book_preferences = \"I like nonfiction and I hate fiction.\"\n",
    "hidden_spec = HiddenSceneSpec(\"handover-only\", hidden_book_preferences, rom_model, surfaces_robot_can_clean=[])\n",
    "llm = OpenAILLM(\"gpt-4o-mini\", Path(\"llm_cache\"), max_tokens=700)\n",
    "num_books = 9\n",
    "scene_spec = PyBulletSceneSpec(num_books=num_books, use_standard_books=True)\n",
    "env = PyBulletEnv(scene_spec, llm, hidden_spec)\n",
    "\n",
    "# Generate book descriptions.\n",
    "book_descriptions = env._generate_book_descriptions(num_books, seed=0)\n",
    "print(\"Book descriptions:\")\n",
    "for i, desc in enumerate(book_descriptions):\n",
    "    print(f\"Book {i}: {desc}\")"
   ]
  },
  {
   "cell_type": "code",
   "execution_count": 3,
   "metadata": {},
   "outputs": [
    {
     "name": "stdout",
     "output_type": "stream",
     "text": [
      "Ground-truth preferences:\n",
      "Book: Title: Cosmos. Author: Carl Sagan., Preference: True\n",
      "Book: Title: The Diary of Anne Frank. Author: Anne Frank., Preference: True\n",
      "Book: Title: Moby Dick. Author: Herman Melville., Preference: False\n",
      "Book: Title: The Hitchhiker's Guide to the Galaxy. Author: Douglas Adams., Preference: False\n",
      "Book: Title: The Lord of the Rings. Author: J. R. R. Tolkien., Preference: False\n",
      "Book: Title: And Then There Were None. Author: Agatha Christie., Preference: False\n",
      "Book: Title: To Kill a Mockingbird. Author: Harper Lee., Preference: False\n",
      "Book: Title: The Great Gatsby. Author: F. Scott Fitzgerald., Preference: False\n",
      "Book: Title: 1984. Author: George Orwell., Preference: False\n"
     ]
    }
   ],
   "source": [
    "# Generate the ground-truth preferences for each book.\n",
    "gt_preferences: dict[str, bool] = {}\n",
    "for book in book_descriptions:\n",
    "    gt_preferences[book] = user_would_enjoy_book(book, hidden_book_preferences, llm)\n",
    "print(\"Ground-truth preferences:\")\n",
    "for book, preference in gt_preferences.items():\n",
    "    print(f\"Book: {book}, Preference: {preference}\")"
   ]
  },
  {
   "cell_type": "code",
   "execution_count": 7,
   "metadata": {},
   "outputs": [
    {
     "name": "stdout",
     "output_type": "stream",
     "text": [
      "Showing book: Title: The Diary of Anne Frank. Author: Anne Frank.\n",
      "Got user feedback: When I gave the user the book: \"Title: The Diary of Anne Frank. Author: Anne Frank.\", they said: \"I don't enjoy this book.\"\n",
      "Updated preferences: I know that the user likes the following books: and they do not like the following books: The Diary of Anne Frank. Based on this, here are some possible summaries of their preferences:  \n",
      "1. The user prefers books that are not autobiographical or focused on historical accounts.  \n",
      "2. The user may favor genres other than literary classics or memoirs.  \n",
      "3. The user shows a dislike for books that explore heavy themes related to war or oppression.\n",
      "Current accuracy: 0.4444444444444444\n",
      "Showing book: Title: The Great Gatsby. Author: F. Scott Fitzgerald.\n",
      "Got user feedback: When I gave the user the book: \"Title: The Great Gatsby. Author: F. Scott Fitzgerald.\", they said: \"I do not enjoy this book.\"\n",
      "Updated preferences: I know that the user likes the following books: none and they do not like the following books: The Diary of Anne Frank, The Great Gatsby. Based on this, here are some possible summaries of their preferences:  \n",
      "1. The user seems to prefer books that are not well-known classics.  \n",
      "2. The user may enjoy genres or styles different from typical literary fiction.  \n",
      "3. The user likely has a specific taste that hasn't been satisfied by the books they've encountered.\n",
      "Current accuracy: 0.6666666666666666\n",
      "Showing book: Title: Cosmos. Author: Carl Sagan.\n",
      "Got user feedback: When I gave the user the book: \"Title: Cosmos. Author: Carl Sagan.\", they said: \"I enjoy this book.\"\n",
      "Updated preferences: \"I know that the user likes the following books: Cosmos and they do not like the following books: The Diary of Anne Frank, The Great Gatsby. Based on this, here are some possible summaries of their preferences:  \n",
      "1. The user enjoys non-fiction, especially science-related topics.  \n",
      "2. The user prefers books that provide factual knowledge over classic literature.  \n",
      "3. The user may appreciate engaging content that stimulates curiosity rather than traditional narratives.\"\n",
      "Current accuracy: 0.7777777777777778\n",
      "Showing book: Title: The Hitchhiker's Guide to the Galaxy. Author: Douglas Adams.\n",
      "Got user feedback: When I gave the user the book: \"Title: The Hitchhiker's Guide to the Galaxy. Author: Douglas Adams.\", they said: \"I do not enjoy this book.\"\n",
      "Updated preferences: I know that the user likes the following books: Cosmos and they do not like the following books: The Diary of Anne Frank, The Great Gatsby, The Hitchhiker's Guide to the Galaxy. Based on this, here are some possible summaries of their preferences:  \n",
      "1. The user prefers non-fiction or books that explore complex scientific ideas rather than classic or fictional literature.  \n",
      "2. The user appears to favor thought-provoking works over narrative-driven stories.  \n",
      "3. The user has a dislike for popular classics, suggesting a preference for more contemporary or intellectually stimulating material.  \n",
      "Current accuracy: 0.8888888888888888\n",
      "Showing book: Title: Moby Dick. Author: Herman Melville.\n",
      "Got user feedback: When I gave the user the book: \"Title: Moby Dick. Author: Herman Melville.\", they said: \"I do not enjoy this book.\"\n",
      "Updated preferences: I know that the user likes the following books: Cosmos and they do not like the following books: The Diary of Anne Frank, The Great Gatsby, The Hitchhiker's Guide to the Galaxy, Moby Dick. Based on this, here are some possible summaries of their preferences:  \n",
      "1. The user prefers non-fiction or science-related literature over classic literature.  \n",
      "2. The user may enjoy books that delve into scientific concepts or philosophical ideas rather than fictional narratives.  \n",
      "3. The user has a specific taste that avoids widely praised classic novels and prefers works that engage with real-world themes.\n",
      "Current accuracy: 0.8888888888888888\n",
      "Showing book: Title: To Kill a Mockingbird. Author: Harper Lee.\n",
      "Got user feedback: When I gave the user the book: \"Title: To Kill a Mockingbird. Author: Harper Lee.\", they said: \"I don't enjoy this book.\"\n",
      "Updated preferences: I know that the user likes the following books: Cosmos and they do not like the following books: The Diary of Anne Frank, The Great Gatsby, The Hitchhiker's Guide to the Galaxy, Moby Dick, To Kill a Mockingbird. Based on this, here are some possible summaries of their preferences:  \n",
      "1. The user enjoys science-related non-fiction but does not prefer classic literature.  \n",
      "2. The user has a preference for engaging and thought-provoking content, likely appreciating depth over traditional narratives.  \n",
      "3. The user may favor modern or contemporary themes rather than historical or dense prose.\n",
      "Current accuracy: 0.8888888888888888\n",
      "Showing book: Title: The Lord of the Rings. Author: J. R. R. Tolkien.\n",
      "Got user feedback: When I gave the user the book: \"Title: The Lord of the Rings. Author: J. R. R. Tolkien.\", they said: \"I do not enjoy this book.\"\n",
      "Updated preferences: \"I know that the user likes the following books: Cosmos by Carl Sagan and they do not like the following books: The Diary of Anne Frank, The Great Gatsby, The Hitchhiker's Guide to the Galaxy, Moby Dick, To Kill a Mockingbird, The Lord of the Rings. Based on this, here are some possible summaries of their preferences:  \n",
      "1. The user tends to enjoy non-fiction or science-related literature.  \n",
      "2. The user shows a strong disinterest in classic literature and well-known novels.  \n",
      "3. The user may prefer books that offer a scientific or philosophical perspective over fictional narratives.\"\n",
      "Current accuracy: 0.8888888888888888\n",
      "Showing book: Title: 1984. Author: George Orwell.\n",
      "Got user feedback: When I gave the user the book: \"Title: 1984. Author: George Orwell.\", they said: \"I do not enjoy this book.\"\n",
      "Updated preferences: \"I know that the user likes the following books: Cosmos and they do not like the following books: The Diary of Anne Frank, The Great Gatsby, The Hitchhiker's Guide to the Galaxy, Moby Dick, To Kill a Mockingbird, The Lord of the Rings, and 1984. Based on this, here are some possible summaries of their preferences:  \n",
      "1. The user has a preference for non-fiction or science-related literature.  \n",
      "2. The user does not enjoy classic literature or popular literary novels.  \n",
      "3. The user may prefer works that are more exploratory or thought-provoking rather than traditional narratives.\"\n",
      "Current accuracy: 0.8888888888888888\n",
      "Showing book: Title: And Then There Were None. Author: Agatha Christie.\n",
      "Got user feedback: When I gave the user the book: \"Title: And Then There Were None. Author: Agatha Christie.\", they said: \"I do not enjoy this book.\"\n",
      "Updated preferences: \"I know that the user likes the following books: Cosmos and they do not like the following books: The Diary of Anne Frank, The Great Gatsby, The Hitchhiker's Guide to the Galaxy, Moby Dick, To Kill a Mockingbird, The Lord of the Rings, 1984, And Then There Were None. Based on this, here are some possible summaries of their preferences:  \n",
      "1. The user may prefer non-fiction or science-related themes over classic literature and narratives.  \n",
      "2. The user seems to have a strong aversion to popular literary classics and notable works of fiction.  \n",
      "3. The user enjoys books that explore scientific concepts and ideas rather than story-driven plots.\"\n",
      "Current accuracy: 0.8888888888888888\n"
     ]
    }
   ],
   "source": [
    "def get_book_preferences_from_summary(current_preferences: str, llm: OpenAILLM):\n",
    "    preferences: dict[str, bool] = {}\n",
    "    for book in book_descriptions:\n",
    "        preferences[book] = user_would_enjoy_book(book, current_preferences, llm)\n",
    "    return preferences\n",
    "\n",
    "\n",
    "def get_book_preference_accuracy(learned_preferences: dict[str, bool], gt_preferences: dict[str, bool]):\n",
    "    correct = 0\n",
    "    for book in learned_preferences:\n",
    "        if learned_preferences[book] == gt_preferences[book]:\n",
    "            correct += 1\n",
    "    return correct / len(learned_preferences)\n",
    "\n",
    "\n",
    "def get_user_feedback(book, user_preferences, llm):\n",
    "    enjoyed = gt_preferences[book]\n",
    "    explanation = _explain_user_book_preference(book, user_preferences, llm, enjoyed=enjoyed)\n",
    "    new_feedback = f'When I gave the user the book: \"{book}\", they said: \"{explanation}\"'\n",
    "    return new_feedback\n",
    "\n",
    "\n",
    "def update_preferences(all_user_feedback, llm):\n",
    "    return _get_book_preferences_from_history(all_user_feedback, llm, seed=0)\n",
    "\n",
    "\n",
    "def run_single_trial(rng, llm):\n",
    "    book_order = sorted(book_descriptions)\n",
    "    rng.shuffle(book_order)\n",
    "    current_preferences = \"Unknown\"\n",
    "    learned_preferences = get_book_preferences_from_summary(current_preferences, llm)\n",
    "    accuracy = get_book_preference_accuracy(learned_preferences, gt_preferences)\n",
    "    accuracies = [accuracy]\n",
    "    all_user_feedback = []\n",
    "    for book in book_order:\n",
    "        print(\"Showing book:\", book)\n",
    "        user_feedback = get_user_feedback(book, hidden_book_preferences, llm)\n",
    "        print(\"Got user feedback:\", user_feedback)\n",
    "        all_user_feedback.append(user_feedback)\n",
    "        current_preferences = update_preferences(all_user_feedback, llm)\n",
    "        print(\"Updated preferences:\", current_preferences)\n",
    "        learned_preferences = get_book_preferences_from_summary(current_preferences, llm)\n",
    "        accuracy = get_book_preference_accuracy(learned_preferences, gt_preferences)\n",
    "        print(\"Current accuracy:\", accuracy)\n",
    "        accuracies.append(accuracy)\n",
    "    return accuracies\n",
    "\n",
    "rng = np.random.default_rng(0)\n",
    "num_trials = 1\n",
    "all_accuracies = []\n",
    "for _ in range(num_trials):\n",
    "    accuracies = run_single_trial(rng, llm)\n",
    "    all_accuracies.append(accuracies)\n",
    "mean_accuracies = np.mean(all_accuracies, axis=0)"
   ]
  },
  {
   "cell_type": "code",
   "execution_count": 8,
   "metadata": {},
   "outputs": [
    {
     "data": {
      "image/png": "[encoded data removed]",
      "text/plain": [
       "<Figure size 640x480 with 1 Axes>"
      ]
     },
     "metadata": {},
     "output_type": "display_data"
    }
   ],
   "source": [
    "plt.plot(mean_accuracies)\n",
    "plt.xlabel(\"Number of books shown\")\n",
    "plt.ylabel(\"Accuracy\")\n",
    "plt.title(\"Accuracy of book preferences over time\")\n",
    "plt.show()"
   ]
  }
 ],
 "metadata": {
  "kernelspec": {
   "display_name": "venv",
   "language": "python",
   "name": "python3"
  },
  "language_info": {
   "codemirror_mode": {
    "name": "ipython",
    "version": 3
   },
   "file_extension": ".py",
   "mimetype": "text/x-python",
   "name": "python",
   "nbconvert_exporter": "python",
   "pygments_lexer": "ipython3",
   "version": "3.10.6"
  }
 },
 "nbformat": 4,
 "nbformat_minor": 4
}
